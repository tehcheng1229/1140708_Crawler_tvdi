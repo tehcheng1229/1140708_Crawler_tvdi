{
 "cells": [
  {
   "cell_type": "code",
   "execution_count": 3,
   "id": "fb9860ce",
   "metadata": {},
   "outputs": [
    {
     "name": "stdout",
     "output_type": "stream",
     "text": [
      "開始 1\n",
      "任務 1 完成\n",
      "開始 2\n",
      "任務 2 完成\n",
      "總耗時 : 3.00 秒\n"
     ]
    }
   ],
   "source": [
    "import asyncio\n",
    "import time\n",
    "import nest_asyncio\n",
    "nest_asyncio.apply()\n",
    "\n",
    "async def task(id, delay):\n",
    "    print(f\"開始 {id}\")\n",
    "    time.sleep(delay)\n",
    "    print(f\"任務 {id} 完成\")\n",
    "\n",
    "async def main():\n",
    "    start = time.time()\n",
    "    tasks =[task(1,1), task(2,2)]\n",
    "    await asyncio.gather(*tasks)\n",
    "    print(f\"總耗時 :{time.time()-start: .2f} 秒\")\n",
    "\n",
    "asyncio.run(main())"
   ]
  },
  {
   "cell_type": "code",
   "execution_count": null,
   "id": "e6699368",
   "metadata": {},
   "outputs": [
    {
     "ename": "",
     "evalue": "",
     "output_type": "error",
     "traceback": [
      "\u001b[1;31m執行具有 'base (Python 3.13.5)' 的儲存格需要 ipykernel 套件。\n",
      "\u001b[1;31m使用所需的套件<a href='command:jupyter.createPythonEnvAndSelectController'>建立 Python 環境</a>。"
     ]
    }
   ],
   "source": [
    "import crawl4ai\n",
    "print(crawl4ai.__version__.__version__)"
   ]
  }
 ],
 "metadata": {
  "kernelspec": {
   "display_name": "base",
   "language": "python",
   "name": "python3"
  },
  "language_info": {
   "codemirror_mode": {
    "name": "ipython",
    "version": 3
   },
   "file_extension": ".py",
   "mimetype": "text/x-python",
   "name": "python",
   "nbconvert_exporter": "python",
   "pygments_lexer": "ipython3",
   "version": "3.13.5"
  }
 },
 "nbformat": 4,
 "nbformat_minor": 5
}
