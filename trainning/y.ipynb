{
 "cells": [
  {
   "cell_type": "markdown",
   "id": "5b08910c",
   "metadata": {},
   "source": [
    "# ASAP"
   ]
  },
  {
   "cell_type": "code",
   "execution_count": 11,
   "id": "b18ad9fd",
   "metadata": {},
   "outputs": [
    {
     "name": "stdout",
     "output_type": "stream",
     "text": [
      "54\n"
     ]
    }
   ],
   "source": [
    "\n",
    "print(6*9)"
   ]
  },
  {
   "cell_type": "markdown",
   "id": "be910284",
   "metadata": {},
   "source": [
    "*a\n",
    "*b\n",
    "*c"
   ]
  },
  {
   "cell_type": "markdown",
   "id": "803c9ade",
   "metadata": {},
   "source": [
    "** A  **"
   ]
  },
  {
   "cell_type": "markdown",
   "id": "66fe5e72",
   "metadata": {},
   "source": [
    "**G**"
   ]
  }
 ],
 "metadata": {
  "kernelspec": {
   "display_name": "myenv1",
   "language": "python",
   "name": "python3"
  },
  "language_info": {
   "codemirror_mode": {
    "name": "ipython",
    "version": 3
   },
   "file_extension": ".py",
   "mimetype": "text/x-python",
   "name": "python",
   "nbconvert_exporter": "python",
   "pygments_lexer": "ipython3",
   "version": "3.12.11"
  }
 },
 "nbformat": 4,
 "nbformat_minor": 5
}
