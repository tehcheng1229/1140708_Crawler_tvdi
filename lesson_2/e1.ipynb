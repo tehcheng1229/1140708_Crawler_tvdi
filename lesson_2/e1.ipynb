{
 "cells": [
  {
   "cell_type": "markdown",
   "id": "1895dc48",
   "metadata": {},
   "source": [
    "##_AA_"
   ]
  },
  {
   "cell_type": "code",
   "execution_count": 2,
   "id": "fc45db25",
   "metadata": {},
   "outputs": [
    {
     "name": "stdout",
     "output_type": "stream",
     "text": [
      "11.2\n"
     ]
    }
   ],
   "source": [
    "print(56/5)"
   ]
  }
 ],
 "metadata": {
  "kernelspec": {
   "display_name": "myenv1",
   "language": "python",
   "name": "python3"
  },
  "language_info": {
   "codemirror_mode": {
    "name": "ipython",
    "version": 3
   },
   "file_extension": ".py",
   "mimetype": "text/x-python",
   "name": "python",
   "nbconvert_exporter": "python",
   "pygments_lexer": "ipython3",
   "version": "3.12.11"
  }
 },
 "nbformat": 4,
 "nbformat_minor": 5
}
