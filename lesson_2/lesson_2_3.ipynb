{
 "cells": [
  {
   "cell_type": "code",
   "execution_count": 4,
   "id": "4bc50627",
   "metadata": {},
   "outputs": [
    {
     "name": "stdout",
     "output_type": "stream",
     "text": [
      "fail\n"
     ]
    }
   ],
   "source": [
    "score = 59\n",
    "if score >= 90:\n",
    "    print(\"excelence\")\n",
    "elif score >= 60:\n",
    "    print(\"good\")\n",
    "else:\n",
    "            print(\"fail\")"
   ]
  },
  {
   "cell_type": "code",
   "execution_count": 5,
   "id": "de77e384",
   "metadata": {},
   "outputs": [
    {
     "name": "stdout",
     "output_type": "stream",
     "text": [
      "success\n",
      "('[{\"id\":\"51913722658\",\"type\":\"PushEvent\",\"actor\":{\"id\":136325437,\"login\":\"Zeldoor\",\"display_login\":\"Zeldoor\",\"gravatar_id\":\"\",\"url\":\"https://api.github.com/users/Zeldoor\",\"avatar_url\":\"https://avatars.githubusercontent.com/u/136325437?\"},\"repo\":{\"id\":1017210950,\"name\":\"Zeldoor/portfolio\",\"url\":\"https://api.github.com/repos/Zeldoor/portfolio\"},\"payload\":{\"repository_id\":1017210950,\"push_id\":25407938702,\"size\":1,\"distinct_size\":1,\"ref\":\"refs/heads/main\",\"head\":\"ab643daa77cfbad40072835ee35c0dc1e260301e\",\"before\":\"7dc6f41e6b65d00b5a9649d26f379b6d051c079d\",\"commits\":[{\"sha\":\"ab643daa77cfbad40072835ee35c0dc1e260301e\",\"author\":{\"email\":\"mattiarosati98@gmail.com\",\"name\":\"Zeldoor\"},\"message\":\"pages\",\"distinct\":true,\"url\":\"https://api.github.com/repos/Zeldoor/portfolio/commits/ab643daa77cfbad40072835ee35c0dc1e260301e\"}]},\"public\":true,\"created_at\":\"2025-07-10T07:46:04Z\"},{\"id\":\"51913722659\",\"type\":\"CreateEvent\",\"actor\":{\"id\":220154024,\"login\":\"4thgames\",\"display_login\":\"4thgames\",\"gravatar_id\":\"\",\"url\":\"https://api.github.com/users/4thgames\",\"avatar_url\":\"https://avatars.githubusercontent.com/u/220154024?\"},\"repo\":{\"id\":1017216508,\"name\":\"4thgames/fakebook_hiruta\",\"url\":\"https://api.github.com/repos/4thgames/fakebook_hiruta\"},\"payload\":{\"ref\":\"main\",\"ref_type\":\"branch\",\"master_branch\":\"main\",\"description\":null,\"pusher_type\":\"user\"},\"public\":true,\"created_at\":\"2025-07-10T07:46:04Z\"},{\"id\":\"51913722637\",\"type\":\"GollumEvent\",\"actor\":{\"id\":210711165,\"login\":\"Yauncai\",\"display_login\":\"Yauncai\",\"gravatar_id\":\"\",\"url\":\"https://api.github.com/users/Yauncai\",\"avatar_url\":\"https://avatars.githubusercontent.com/u/210711165?\"},\"repo\":{\"id\":999542451,\"name\":\"Yauncai/Cards-Top_Ten-\",\"url\":\"https://api.github.com/repos/Yauncai/Cards-Top_Ten-\"},\"payload\":{\"pages\":[{\"page_name\":\"Home\",\"title\":\"Home\",\"summary\":null,\"action\":\"edited\",\"sha\":\"150ba82a6f81f6bb5f16adcab6de89ea327a24a1\",\"html_url\":\"https://github.com/Yauncai/Cards-Top_Ten-/wiki/Home\"}]},\"public\":true,\"created_at\":\"2025-07-10T07:46:04Z\"},{\"id\":\"51913722611\",\"type\":\"WatchEvent\",\"actor\":{\"id\":20885141,\"login\":\"beyzaince\",\"display_login\":\"beyzaince\",\"gravatar_id\":\"\",\"url\":\"https://api.github.com/users/beyzaince\",\"avatar_url\":\"https://avatars.githubusercontent.com/u/20885141?\"},\"repo\":{\"id\":1009144062,\"name\":\"getsentry/reaper-server\",\"url\":\"https://api.github.com/repos/getsentry/reaper-server\"},\"payload\":{\"action\":\"started\"},\"public\":true,\"created_at\":\"2025-07-10T07:46:04Z\",\"org\":{\"id\":1396951,\"login\":\"getsentry\",\"gravatar_id\":\"\",\"url\":\"https://api.github.com/orgs/getsentry\",\"avatar_url\":\"https://avatars.githubusercontent.com/u/1396951?\"}},{\"id\":\"51913722636\",\"type\":\"PushEvent\",\"actor\":{\"id\":839662,\"login\":\"nirajmind\",\"display_login\":\"nirajmind\",\"gravatar_id\":\"\",\"url\":\"https://api.github.com/users/nirajmind\",\"avatar_url\":\"https://avatars.githubusercontent.com/u/839662?\"},\"repo\":{\"id\":1015346669,\"name\":\"nirajmind/multi-media-chatbot\",\"url\":\"https://api.github.com/repos/nirajmind/multi-media-chatbot\"},\"payload\":{\"repository_id\":1015346669,\"push_id\":25407938667,\"size\":1,\"distinct_size\":1,\"ref\":\"refs/heads/main\",\"head\":\"58d0d4ff017507edc351b12fb5288ae187f72433\",\"before\":\"a629f7ac7254f28bf8f6168dfac4b796c44c2a63\",\"commits\":[{\"sha\":\"58d0d4ff017507edc351b12fb5288ae187f72433\",\"author\":{\"email\":\"nirajmind@users.noreply.github.com\",\"name\":\"Niraj '\n",
      " 'Adhikary\"},\"message\":\"corrected node '\n",
      " 'version\",\"distinct\":true,\"url\":\"https://api.github.com/repos/nirajmind/multi-media-chatbot/commits/58d0d4ff017507edc351b12fb5288ae187f72433\"}]},\"public\":true,\"created_at\":\"2025-07-10T07:46:04Z\"},{\"id\":\"51913722622\",\"type\":\"PushEvent\",\"actor\":{\"id\":149472290,\"login\":\"Uzair390-Del\",\"display_login\":\"Uzair390-Del\",\"gravatar_id\":\"\",\"url\":\"https://api.github.com/users/Uzair390-Del\",\"avatar_url\":\"https://avatars.githubusercontent.com/u/149472290?\"},\"repo\":{\"id\":1016674197,\"name\":\"Uzair390-Del/Socket_Programming_Python_Client_Server_Comunication\",\"url\":\"https://api.github.com/repos/Uzair390-Del/Socket_Programming_Python_Client_Server_Comunication\"},\"payload\":{\"repository_id\":1016674197,\"push_id\":25407938613,\"size\":1,\"distinct_size\":1,\"ref\":\"refs/heads/main\",\"head\":\"ac81c53eac2e75a17ed88f501477c6ff5654dcb2\",\"before\":\"1bd55dac21cd17355490bfae72af5ebf74690df4\",\"commits\":[{\"sha\":\"ac81c53eac2e75a17ed88f501477c6ff5654dcb2\",\"author\":{\"email\":\"uzair.zairi321@gmail.com\",\"name\":\"Uzair390-Del\"},\"message\":\"update\",\"distinct\":true,\"url\":\"https://api.github.com/repos/Uzair390-Del/Socket_Programming_Python_Client_Server_Comunication/commits/ac81c53eac2e75a17ed88f501477c6ff5654dcb2\"}]},\"public\":true,\"created_at\":\"2025-07-10T07:46:04Z\"},{\"id\":\"51913722606\",\"type\":\"PushEvent\",\"actor\":{\"id\":216687129,\"login\":\"OlmiracrmILH\",\"display_login\":\"OlmiracrmILH\",\"gravatar_id\":\"\",\"url\":\"https://api.github.com/users/OlmiracrmILH\",\"avatar_url\":\"https://avatars.githubusercontent.com/u/216687129?\"},\"repo\":{\"id\":1003931942,\"name\":\"OlmiracrmILH/Arbitrage-AICryptoTrading\",\"url\":\"https://api.github.com/repos/OlmiracrmILH/Arbitrage-AICryptoTrading\"},\"payload\":{\"repository_id\":1003931942,\"push_id\":25407938612,\"size\":1,\"distinct_size\":1,\"ref\":\"refs/heads/main\",\"head\":\"6b0551d64ef1a5253e84481fa9df42cb87ea02a4\",\"before\":\"719d1229ed679d9b1d43c47285fba7462765d1b2\",\"commits\":[{\"sha\":\"6b0551d64ef1a5253e84481fa9df42cb87ea02a4\",\"author\":{\"email\":\"myundt1978362@gmail.com\",\"name\":\"SeerKnight19\"},\"message\":\"Update '\n",
      " 'LICENSE\",\"distinct\":true,\"url\":\"https://api.github.com/repos/OlmiracrmILH/Arbitrage-AICryptoTrading/commits/6b0551d64ef1a5253e84481fa9df42cb87ea02a4\"}]},\"public\":true,\"created_at\":\"2025-07-10T07:46:04Z\"},{\"id\":\"51913722616\",\"type\":\"PushEvent\",\"actor\":{\"id\":47662225,\"login\":\"Loobster\",\"display_login\":\"Loobster\",\"gravatar_id\":\"\",\"url\":\"https://api.github.com/users/Loobster\",\"avatar_url\":\"https://avatars.githubusercontent.com/u/47662225?\"},\"repo\":{\"id\":966184410,\"name\":\"Loobster/waldsensor-sh.github.io\",\"url\":\"https://api.github.com/repos/Loobster/waldsensor-sh.github.io\"},\"payload\":{\"repository_id\":966184410,\"push_id\":25407938647,\"size\":1,\"distinct_size\":1,\"ref\":\"refs/heads/main\",\"head\":\"b1d4470a26e1c5060da97a00a0148473f48b8dbe\",\"before\":\"09cb9f30454dd4015c67172c03e246438d1959d2\",\"commits\":[{\"sha\":\"b1d4470a26e1c5060da97a00a0148473f48b8dbe\",\"author\":{\"email\":\"deine@email.de\",\"name\":\"Loobster\"},\"message\":\"📡 '\n",
      " 'Auto-Update 2025-07-10 '\n",
      " '09:46:02\",\"distinct\":true,\"url\":\"https://api.github.com/repos/Loobster/waldsensor-sh.github.io/commits/b1d4470a26e1c5060da97a00a0148473f48b8dbe\"}]},\"public\":true,\"created_at\":\"2025-07-10T07:46:04Z\"},{\"id\":\"51913722595\",\"type\":\"PushEvent\",\"actor\":{\"id\":83569152,\"login\":\"arsteg\",\"display_login\":\"arsteg\",\"gravatar_id\":\"\",\"url\":\"https://api.github.com/users/arsteg\",\"avatar_url\":\"https://avatars.githubusercontent.com/u/83569152?\"},\"repo\":{\"id\":989706026,\"name\":\"arsteg/EffortlessQA\",\"url\":\"https://api.github.com/repos/arsteg/EffortlessQA\"},\"payload\":{\"repository_id\":989706026,\"push_id\":25407938623,\"size\":1,\"distinct_size\":1,\"ref\":\"refs/heads/main\",\"head\":\"740d73acbf1d70555ed5f0b06c4f710e90a1df3b\",\"before\":\"8b55046375e968c801b19de21f939991a1cb64e5\",\"commits\":[{\"sha\":\"740d73acbf1d70555ed5f0b06c4f710e90a1df3b\",\"author\":{\"email\":\"aanchal.nirdosh@itcsystems.com\",\"name\":\"Aanchal '\n",
      " 'Nirdosh\"},\"message\":\"publish profile '\n",
      " 'added\",\"distinct\":true,\"url\":\"https://api.github.com/repos/arsteg/EffortlessQA/commits/740d73acbf1d70555ed5f0b06c4f710e90a1df3b\"}]},\"public\":true,\"created_at\":\"2025-07-10T07:46:04Z\"},{\"id\":\"51913722580\",\"type\":\"PushEvent\",\"actor\":{\"id\":220070680,\"login\":\"Shresth-uwu\",\"display_login\":\"Shresth-uwu\",\"gravatar_id\":\"\",\"url\":\"https://api.github.com/users/Shresth-uwu\",\"avatar_url\":\"https://avatars.githubusercontent.com/u/220070680?\"},\"repo\":{\"id\":1017204872,\"name\":\"Shresth-uwu/Shresth\",\"url\":\"https://api.github.com/repos/Shresth-uwu/Shresth\"},\"payload\":{\"repository_id\":1017204872,\"push_id\":25407938649,\"size\":1,\"distinct_size\":1,\"ref\":\"refs/heads/main\",\"head\":\"84082808265e089d3d3bfb23d0f02c98ec374a0c\",\"before\":\"ad396274333b477adf09b165694db8c498b0f03e\",\"commits\":[{\"sha\":\"84082808265e089d3d3bfb23d0f02c98ec374a0c\",\"author\":{\"email\":\"shresthsinghal1284@gmail.com\",\"name\":\"Shresth\"},\"message\":\"Update '\n",
      " 'README.md\",\"distinct\":true,\"url\":\"https://api.github.com/repos/Shresth-uwu/Shresth/commits/84082808265e089d3d3bfb23d0f02c98ec374a0c\"}]},\"public\":true,\"created_at\":\"2025-07-10T07:46:04Z\"},{\"id\":\"51913722578\",\"type\":\"PushEvent\",\"actor\":{\"id\":122723888,\"login\":\"MohammedKarimKhaldi\",\"display_login\":\"MohammedKarimKhaldi\",\"gravatar_id\":\"\",\"url\":\"https://api.github.com/users/MohammedKarimKhaldi\",\"avatar_url\":\"https://avatars.githubusercontent.com/u/122723888?\"},\"repo\":{\"id\":1017026083,\"name\":\"MohammedKarimKhaldi/lob\",\"url\":\"https://api.github.com/repos/MohammedKarimKhaldi/lob\"},\"payload\":{\"repository_id\":1017026083,\"push_id\":25407938626,\"size\":1,\"distinct_size\":1,\"ref\":\"refs/heads/main\",\"head\":\"e2c3d5a01fb37ab5d23f06bc9d582bda62c4e119\",\"before\":\"0b9b49bd573ef08a76bdb00bedf947ba844190ad\",\"commits\":[{\"sha\":\"e2c3d5a01fb37ab5d23f06bc9d582bda62c4e119\",\"author\":{\"email\":\"karim.m.khaldi@gmail.com\",\"name\":\"Mohammed-Karim '\n",
      " 'Khaldi\"},\"message\":\"docs: update README for modular architecture and '\n",
      " 'strategy initialization; codebase is now fully '\n",
      " 'modular\",\"distinct\":true,\"url\":\"https://api.github.com/repos/MohammedKarimKhaldi/lob/commits/e2c3d5a01fb37ab5d23f06bc9d582bda62c4e119\"}]},\"public\":true,\"created_at\":\"2025-07-10T07:46:04Z\"},{\"id\":\"51913722575\",\"type\":\"PushEvent\",\"actor\":{\"id\":118350509,\"login\":\"juniorode\",\"display_login\":\"juniorode\",\"gravatar_id\":\"\",\"url\":\"https://api.github.com/users/juniorode\",\"avatar_url\":\"https://avatars.githubusercontent.com/u/118350509?\"},\"repo\":{\"id\":983393639,\"name\":\"edificeio/communities\",\"url\":\"https://api.github.com/repos/edificeio/communities\"},\"payload\":{\"repository_id\":983393639,\"push_id\":25407938588,\"size\":1,\"distinct_size\":1,\"ref\":\"refs/heads/develop-pedago\",\"head\":\"1adfbdd90a779c69951eefec03cc86d027277104\",\"before\":\"3b779863d7d98d53a4ef57a6ae01aa4b5d24c23c\",\"commits\":[{\"sha\":\"1adfbdd90a779c69951eefec03cc86d027277104\",\"author\":{\"email\":\"junior.bernard@opendigitaleducation.com\",\"name\":\"Junior '\n",
      " 'BERNARD\"},\"message\":\"ci: fix pnpm '\n",
      " 'lock\",\"distinct\":true,\"url\":\"https://api.github.com/repos/edificeio/communities/commits/1adfbdd90a779c69951eefec03cc86d027277104\"}]},\"public\":true,\"created_at\":\"2025-07-10T07:46:04Z\",\"org\":{\"id\":39728609,\"login\":\"edificeio\",\"gravatar_id\":\"\",\"url\":\"https://api.github.com/orgs/edificeio\",\"avatar_url\":\"https://avatars.githubusercontent.com/u/39728609?\"}},{\"id\":\"51913722555\",\"type\":\"PushEvent\",\"actor\":{\"id\":102328295,\"login\":\"oblomov-dev\",\"display_login\":\"oblomov-dev\",\"gravatar_id\":\"\",\"url\":\"https://api.github.com/users/oblomov-dev\",\"avatar_url\":\"https://avatars.githubusercontent.com/u/102328295?\"},\"repo\":{\"id\":574401773,\"name\":\"abap2UI5/abap2UI5\",\"url\":\"https://api.github.com/repos/abap2UI5/abap2UI5\"},\"payload\":{\"repository_id\":574401773,\"push_id\":25407938481,\"size\":1,\"distinct_size\":1,\"ref\":\"refs/heads/dev\",\"head\":\"57c1d284156fbb13cfa0a2c0a263ba5594687246\",\"before\":\"c03408216d7883402bf65929c7b99490919026e7\",\"commits\":[{\"sha\":\"57c1d284156fbb13cfa0a2c0a263ba5594687246\",\"author\":{\"email\":\"oblomov-dev@outlook.com\",\"name\":\"oblomov-dev@outlook.com\"},\"message\":\"update\",\"distinct\":true,\"url\":\"https://api.github.com/repos/abap2UI5/abap2UI5/commits/57c1d284156fbb13cfa0a2c0a263ba5594687246\"}]},\"public\":true,\"created_at\":\"2025-07-10T07:46:04Z\",\"org\":{\"id\":136813377,\"login\":\"abap2UI5\",\"gravatar_id\":\"\",\"url\":\"https://api.github.com/orgs/abap2UI5\",\"avatar_url\":\"https://avatars.githubusercontent.com/u/136813377?\"}},{\"id\":\"51913722561\",\"type\":\"PushEvent\",\"actor\":{\"id\":41898282,\"login\":\"github-actions[bot]\",\"display_login\":\"github-actions\",\"gravatar_id\":\"\",\"url\":\"https://api.github.com/users/github-actions[bot]\",\"avatar_url\":\"https://avatars.githubusercontent.com/u/41898282?\"},\"repo\":{\"id\":1016606475,\"name\":\"rreyka/rixalmuk\",\"url\":\"https://api.github.com/repos/rreyka/rixalmuk\"},\"payload\":{\"repository_id\":1016606475,\"push_id\":25407938584,\"size\":1,\"distinct_size\":1,\"ref\":\"refs/heads/master\",\"head\":\"a7277d2f9d8c7334e16599f84607a2d564cc847b\",\"before\":\"b40aae5dad81e44cf1c24f11a662fc0324fb989b\",\"commits\":[{\"sha\":\"a7277d2f9d8c7334e16599f84607a2d564cc847b\",\"author\":{\"email\":\"rreyka@users.noreply.github.com\",\"name\":\"rreyka\"},\"message\":\"Modify: '\n",
      " '🖊 - Daily Commit #14 at 2025-07-10 '\n",
      " '07:45:59\",\"distinct\":true,\"url\":\"https://api.github.com/repos/rreyka/rixalmuk/commits/a7277d2f9d8c7334e16599f84607a2d564cc847b\"}]},\"public\":true,\"created_at\":\"2025-07-10T07:46:04Z\"},{\"id\":\"51913722564\",\"type\":\"ForkEvent\",\"actor\":{\"id\":39762734,\"login\":\"jiangwangyi\",\"display_login\":\"jiangwangyi\",\"gravatar_id\":\"\",\"url\":\"https://api.github.com/users/jiangwangyi\",\"avatar_url\":\"https://avatars.githubusercontent.com/u/39762734?\"},\"repo\":{\"id\":155220641,\"name\":\"huggingface/transformers\",\"url\":\"https://api.github.com/repos/huggingface/transformers\"},\"payload\":{\"forkee\":{\"id\":1017216505,\"node_id\":\"R_kgDOPKF9-Q\",\"name\":\"transformers\",\"full_name\":\"jiangwangyi/transformers\",\"private\":false,\"owner\":{\"login\":\"jiangwangyi\",\"id\":39762734,\"node_id\":\"MDQ6VXNlcjM5NzYyNzM0\",\"avatar_url\":\"https://avatars.githubusercontent.com/u/39762734?v=4\",\"gravatar_id\":\"\",\"url\":\"https://api.github.com/users/jiangwangyi\",\"html_url\":\"https://github.com/jiangwangyi\",\"followers_url\":\"https://api.github.com/users/jiangwangyi/followers\",\"following_url\":\"https://api.github.com/users/jiangwangyi/following{/other_user}\",\"gists_url\":\"https://api.github.com/users/jiangwangyi/gists{/gist_id}\",\"starred_url\":\"https://api.github.com/users/jiangwangyi/starred{/owner}{/repo}\",\"subscriptions_url\":\"https://api.github.com/users/jiangwangyi/subscriptions\",\"organizations_url\":\"https://api.github.com/users/jiangwangyi/orgs\",\"repos_url\":\"https://api.github.com/users/jiangwangyi/repos\",\"events_url\":\"https://api.github.com/users/jiangwangyi/events{/privacy}\",\"received_events_url\":\"https://api.github.com/users/jiangwangyi/received_events\",\"type\":\"User\",\"user_view_type\":\"public\",\"site_admin\":false},\"html_url\":\"https://github.com/jiangwangyi/transformers\",\"description\":\"🤗 '\n",
      " 'Transformers: the model-definition framework for state-of-the-art machine '\n",
      " 'learning models in text, vision, audio, and multimodal models, for both '\n",
      " 'inference and training. '\n",
      " '\",\"fork\":true,\"url\":\"https://api.github.com/repos/jiangwangyi/transformers\",\"forks_url\":\"https://api.github.com/repos/jiangwangyi/transformers/forks\",\"keys_url\":\"https://api.github.com/repos/jiangwangyi/transformers/keys{/key_id}\",\"collaborators_url\":\"https://api.github.com/repos/jiangwangyi/transformers/collaborators{/collaborator}\",\"teams_url\":\"https://api.github.com/repos/jiangwangyi/transformers/teams\",\"hooks_url\":\"https://api.github.com/repos/jiangwangyi/transformers/hooks\",\"issue_events_url\":\"https://api.github.com/repos/jiangwangyi/transformers/issues/events{/number}\",\"events_url\":\"https://api.github.com/repos/jiangwangyi/transformers/events\",\"assignees_url\":\"https://api.github.com/repos/jiangwangyi/transformers/assignees{/user}\",\"branches_url\":\"https://api.github.com/repos/jiangwangyi/transformers/branches{/branch}\",\"tags_url\":\"https://api.github.com/repos/jiangwangyi/transformers/tags\",\"blobs_url\":\"https://api.github.com/repos/jiangwangyi/transformers/git/blobs{/sha}\",\"git_tags_url\":\"https://api.github.com/repos/jiangwangyi/transformers/git/tags{/sha}\",\"git_refs_url\":\"https://api.github.com/repos/jiangwangyi/transformers/git/refs{/sha}\",\"trees_url\":\"https://api.github.com/repos/jiangwangyi/transformers/git/trees{/sha}\",\"statuses_url\":\"https://api.github.com/repos/jiangwangyi/transformers/statuses/{sha}\",\"languages_url\":\"https://api.github.com/repos/jiangwangyi/transformers/languages\",\"stargazers_url\":\"https://api.github.com/repos/jiangwangyi/transformers/stargazers\",\"contributors_url\":\"https://api.github.com/repos/jiangwangyi/transformers/contributors\",\"subscribers_url\":\"https://api.github.com/repos/jiangwangyi/transformers/subscribers\",\"subscription_url\":\"https://api.github.com/repos/jiangwangyi/transformers/subscription\",\"commits_url\":\"https://api.github.com/repos/jiangwangyi/transformers/commits{/sha}\",\"git_commits_url\":\"https://api.github.com/repos/jiangwangyi/transformers/git/commits{/sha}\",\"comments_url\":\"https://api.github.com/repos/jiangwangyi/transformers/comments{/number}\",\"issue_comment_url\":\"https://api.github.com/repos/jiangwangyi/transformers/issues/comments{/number}\",\"contents_url\":\"https://api.github.com/repos/jiangwangyi/transformers/contents/{+path}\",\"compare_url\":\"https://api.github.com/repos/jiangwangyi/transformers/compare/{base}...{head}\",\"merges_url\":\"https://api.github.com/repos/jiangwangyi/transformers/merges\",\"archive_url\":\"https://api.github.com/repos/jiangwangyi/transformers/{archive_format}{/ref}\",\"downloads_url\":\"https://api.github.com/repos/jiangwangyi/transformers/downloads\",\"issues_url\":\"https://api.github.com/repos/jiangwangyi/transformers/issues{/number}\",\"pulls_url\":\"https://api.github.com/repos/jiangwangyi/transformers/pulls{/number}\",\"milestones_url\":\"https://api.github.com/repos/jiangwangyi/transformers/milestones{/number}\",\"notifications_url\":\"https://api.github.com/repos/jiangwangyi/transformers/notifications{?since,all,participating}\",\"labels_url\":\"https://api.github.com/repos/jiangwangyi/transformers/labels{/name}\",\"releases_url\":\"https://api.github.com/repos/jiangwangyi/transformers/releases{/id}\",\"deployments_url\":\"https://api.github.com/repos/jiangwangyi/transformers/deployments\",\"created_at\":\"2025-07-10T07:46:03Z\",\"updated_at\":\"2025-07-10T07:46:03Z\",\"pushed_at\":\"2025-07-10T05:18:44Z\",\"git_url\":\"git://github.com/jiangwangyi/transformers.git\",\"ssh_url\":\"git@github.com:jiangwangyi/transformers.git\",\"clone_url\":\"https://github.com/jiangwangyi/transformers.git\",\"svn_url\":\"https://github.com/jiangwangyi/transformers\",\"homepage\":\"https://huggingface.co/transformers\",\"size\":328491,\"stargazers_count\":0,\"watchers_count\":0,\"language\":null,\"has_issues\":false,\"has_projects\":true,\"has_downloads\":true,\"has_wiki\":true,\"has_pages\":false,\"has_discussions\":false,\"forks_count\":0,\"mirror_url\":null,\"archived\":false,\"disabled\":false,\"open_issues_count\":0,\"license\":null,\"allow_forking\":true,\"is_template\":false,\"web_commit_signoff_required\":false,\"topics\":[],\"visibility\":\"public\",\"forks\":0,\"open_issues\":0,\"watchers\":0,\"default_branch\":\"main\",\"public\":true}},\"public\":true,\"created_at\":\"2025-07-10T07:46:04Z\",\"org\":{\"id\":25720743,\"login\":\"huggingface\",\"gravatar_id\":\"\",\"url\":\"https://api.github.com/orgs/huggingface\",\"avatar_url\":\"https://avatars.githubusercontent.com/u/25720743?\"}},{\"id\":\"51913722567\",\"type\":\"CreateEvent\",\"actor\":{\"id\":104052706,\"login\":\"Buddhadev25\",\"display_login\":\"Buddhadev25\",\"gravatar_id\":\"\",\"url\":\"https://api.github.com/users/Buddhadev25\",\"avatar_url\":\"https://avatars.githubusercontent.com/u/104052706?\"},\"repo\":{\"id\":1017216504,\"name\":\"Buddhadev25/iac-vm-provisioning-terraform\",\"url\":\"https://api.github.com/repos/Buddhadev25/iac-vm-provisioning-terraform\"},\"payload\":{\"ref\":null,\"ref_type\":\"repository\",\"master_branch\":\"master\",\"description\":\"Terraform-based '\n",
      " 'Infrastructure as Code (IaC) setup to provision virtual machines (VMs) on '\n",
      " 'Google Cloud Platform (GCP) using reusable '\n",
      " 'modules.\",\"pusher_type\":\"user\"},\"public\":true,\"created_at\":\"2025-07-10T07:46:04Z\"},{\"id\":\"51913722559\",\"type\":\"PushEvent\",\"actor\":{\"id\":108781948,\"login\":\"kevin126ckw\",\"display_login\":\"kevin126ckw\",\"gravatar_id\":\"\",\"url\":\"https://api.github.com/users/kevin126ckw\",\"avatar_url\":\"https://avatars.githubusercontent.com/u/108781948?\"},\"repo\":{\"id\":1008924129,\"name\":\"kevin126ckw/WritePapersClient\",\"url\":\"https://api.github.com/repos/kevin126ckw/WritePapersClient\"},\"payload\":{\"repository_id\":1008924129,\"push_id\":25407938591,\"size\":1,\"distinct_size\":1,\"ref\":\"refs/heads/master\",\"head\":\"0f2a591ed8db3f57926cb80595e645b4cf994549\",\"before\":\"eeb16cebb3449d700ff16b1216c66e9159aa7a5c\",\"commits\":[{\"sha\":\"0f2a591ed8db3f57926cb80595e645b4cf994549\",\"author\":{\"email\":\"35583291@qq.com\",\"name\":\"kevinchang\"},\"message\":\"feat(client): '\n",
      " '实现用户注册功能\\\\n\\\\n- 新增注册界面和相关逻辑\\\\n- 完成注册信息验证和提交\\\\n- 添加注册成功和失败的提示\\\\n- '\n",
      " '优化登录界面，增加注册入口\",\"distinct\":true,\"url\":\"https://api.github.com/repos/kevin126ckw/WritePapersClient/commits/0f2a591ed8db3f57926cb80595e645b4cf994549\"}]},\"public\":true,\"created_at\":\"2025-07-10T07:46:04Z\"},{\"id\":\"51913722548\",\"type\":\"PushEvent\",\"actor\":{\"id\":41898282,\"login\":\"github-actions[bot]\",\"display_login\":\"github-actions\",\"gravatar_id\":\"\",\"url\":\"https://api.github.com/users/github-actions[bot]\",\"avatar_url\":\"https://avatars.githubusercontent.com/u/41898282?\"},\"repo\":{\"id\":1015855237,\"name\":\"mfarheza/auto-coomit\",\"url\":\"https://api.github.com/repos/mfarheza/auto-coomit\"},\"payload\":{\"repository_id\":1015855237,\"push_id\":25407938483,\"size\":1,\"distinct_size\":1,\"ref\":\"refs/heads/master\",\"head\":\"e8c5f5a3a5c7ac0ae8fe9ff88ae49b1495ece688\",\"before\":\"382edb4e795483372f08838fd99b41ac1f34ba9b\",\"commits\":[{\"sha\":\"e8c5f5a3a5c7ac0ae8fe9ff88ae49b1495ece688\",\"author\":{\"email\":\"rxmxdhxni@gmail.com\",\"name\":\"dante4rt\"},\"message\":\"✨ '\n",
      " 'Feature Axelar '\n",
      " 'network\",\"distinct\":true,\"url\":\"https://api.github.com/repos/mfarheza/auto-coomit/commits/e8c5f5a3a5c7ac0ae8fe9ff88ae49b1495ece688\"}]},\"public\":true,\"created_at\":\"2025-07-10T07:46:04Z\"},{\"id\":\"51913722546\",\"type\":\"PushEvent\",\"actor\":{\"id\":7067695,\"login\":\"quellabs\",\"display_login\":\"quellabs\",\"gravatar_id\":\"\",\"url\":\"https://api.github.com/users/quellabs\",\"avatar_url\":\"https://avatars.githubusercontent.com/u/7067695?\"},\"repo\":{\"id\":983280192,\"name\":\"quellabs/sculpt\",\"url\":\"https://api.github.com/repos/quellabs/sculpt\"},\"payload\":{\"repository_id\":983280192,\"push_id\":25407938590,\"size\":4,\"distinct_size\":4,\"ref\":\"refs/heads/main\",\"head\":\"bd8fcaed1322b205b8dd72ef83bbab2cc2b2224a\",\"before\":\"9ac07e8d71cb8d5a978e92d53605a11eeabf080e\",\"commits\":[{\"sha\":\"5a7ba3a01831ba15e9b2c4df2b15c4398ffccc7f\",\"author\":{\"email\":\"E934BFdkKtWndW7\",\"name\":\"noescom\"},\"message\":\"Fixed '\n",
      " 'phpstan '\n",
      " 'bugs\",\"distinct\":true,\"url\":\"https://api.github.com/repos/quellabs/sculpt/commits/5a7ba3a01831ba15e9b2c4df2b15c4398ffccc7f\"},{\"sha\":\"61ec4e1fbaf6b3edb9e6747bfafca602cf2f9fdb\",\"author\":{\"email\":\"E934BFdkKtWndW7\",\"name\":\"noescom\"},\"message\":\"Added '\n",
      " 'sculpt command '\n",
      " 'make:discovery-mapping\",\"distinct\":true,\"url\":\"https://api.github.com/repos/quellabs/sculpt/commits/61ec4e1fbaf6b3edb9e6747bfafca602cf2f9fdb\"},{\"sha\":\"f0d21859dec412e085c3a71b044d263341565839\",\"author\":{\"email\":\"E934BFdkKtWndW7\",\"name\":\"noescom\"},\"message\":\"Updated '\n",
      " 'version '\n",
      " 'numbers\",\"distinct\":true,\"url\":\"https://api.github.com/repos/quellabs/sculpt/commits/f0d21859dec412e085c3a71b044d263341565839\"},{\"sha\":\"bd8fcaed1322b205b8dd72ef83bbab2cc2b2224a\",\"author\":{\"email\":\"E934BFdkKtWndW7\",\"name\":\"noescom\"},\"message\":\"Removed '\n",
      " 'determineProjectRoot from Sculpt CommandBase. Fixed call to removed function '\n",
      " 'hasDiscovered in '\n",
      " 'DefaultServiceProvider\",\"distinct\":true,\"url\":\"https://api.github.com/repos/quellabs/sculpt/commits/bd8fcaed1322b205b8dd72ef83bbab2cc2b2224a\"}]},\"public\":true,\"created_at\":\"2025-07-10T07:46:04Z\"},{\"id\":\"51913722552\",\"type\":\"ForkEvent\",\"actor\":{\"id\":220146630,\"login\":\"majisusmita222\",\"display_login\":\"majisusmita222\",\"gravatar_id\":\"\",\"url\":\"https://api.github.com/users/majisusmita222\",\"avatar_url\":\"https://avatars.githubusercontent.com/u/220146630?\"},\"repo\":{\"id\":1001637857,\"name\":\"asyncjavaspector/TigerTracker\",\"url\":\"https://api.github.com/repos/asyncjavaspector/TigerTracker\"},\"payload\":{\"forkee\":{\"id\":1017216507,\"node_id\":\"R_kgDOPKF9-w\",\"name\":\"TigerTracker-1\",\"full_name\":\"majisusmita222/TigerTracker-1\",\"private\":false,\"owner\":{\"login\":\"majisusmita222\",\"id\":220146630,\"node_id\":\"U_kgDODR8rxg\",\"avatar_url\":\"https://avatars.githubusercontent.com/u/220146630?v=4\",\"gravatar_id\":\"\",\"url\":\"https://api.github.com/users/majisusmita222\",\"html_url\":\"https://github.com/majisusmita222\",\"followers_url\":\"https://api.github.com/users/majisusmita222/followers\",\"following_url\":\"https://api.github.com/users/majisusmita222/following{/other_user}\",\"gists_url\":\"https://api.github.com/users/majisusmita222/gists{/gist_id}\",\"starred_url\":\"https://api.github.com/users/majisusmita222/starred{/owner}{/repo}\",\"subscriptions_url\":\"https://api.github.com/users/majisusmita222/subscriptions\",\"organizations_url\":\"https://api.github.com/users/majisusmita222/orgs\",\"repos_url\":\"https://api.github.com/users/majisusmita222/repos\",\"events_url\":\"https://api.github.com/users/majisusmita222/events{/privacy}\",\"received_events_url\":\"https://api.github.com/users/majisusmita222/received_events\",\"type\":\"User\",\"user_view_type\":\"public\",\"site_admin\":false},\"html_url\":\"https://github.com/majisusmita222/TigerTracker-1\",\"description\":null,\"fork\":true,\"url\":\"https://api.github.com/repos/majisusmita222/TigerTracker-1\",\"forks_url\":\"https://api.github.com/repos/majisusmita222/TigerTracker-1/forks\",\"keys_url\":\"https://api.github.com/repos/majisusmita222/TigerTracker-1/keys{/key_id}\",\"collaborators_url\":\"https://api.github.com/repos/majisusmita222/TigerTracker-1/collaborators{/collaborator}\",\"teams_url\":\"https://api.github.com/repos/majisusmita222/TigerTracker-1/teams\",\"hooks_url\":\"https://api.github.com/repos/majisusmita222/TigerTracker-1/hooks\",\"issue_events_url\":\"https://api.github.com/repos/majisusmita222/TigerTracker-1/issues/events{/number}\",\"events_url\":\"https://api.github.com/repos/majisusmita222/TigerTracker-1/events\",\"assignees_url\":\"https://api.github.com/repos/majisusmita222/TigerTracker-1/assignees{/user}\",\"branches_url\":\"https://api.github.com/repos/majisusmita222/TigerTracker-1/branches{/branch}\",\"tags_url\":\"https://api.github.com/repos/majisusmita222/TigerTracker-1/tags\",\"blobs_url\":\"https://api.github.com/repos/majisusmita222/TigerTracker-1/git/blobs{/sha}\",\"git_tags_url\":\"https://api.github.com/repos/majisusmita222/TigerTracker-1/git/tags{/sha}\",\"git_refs_url\":\"https://api.github.com/repos/majisusmita222/TigerTracker-1/git/refs{/sha}\",\"trees_url\":\"https://api.github.com/repos/majisusmita222/TigerTracker-1/git/trees{/sha}\",\"statuses_url\":\"https://api.github.com/repos/majisusmita222/TigerTracker-1/statuses/{sha}\",\"languages_url\":\"https://api.github.com/repos/majisusmita222/TigerTracker-1/languages\",\"stargazers_url\":\"https://api.github.com/repos/majisusmita222/TigerTracker-1/stargazers\",\"contributors_url\":\"https://api.github.com/repos/majisusmita222/TigerTracker-1/contributors\",\"subscribers_url\":\"https://api.github.com/repos/majisusmita222/TigerTracker-1/subscribers\",\"subscription_url\":\"https://api.github.com/repos/majisusmita222/TigerTracker-1/subscription\",\"commits_url\":\"https://api.github.com/repos/majisusmita222/TigerTracker-1/commits{/sha}\",\"git_commits_url\":\"https://api.github.com/repos/majisusmita222/TigerTracker-1/git/commits{/sha}\",\"comments_url\":\"https://api.github.com/repos/majisusmita222/TigerTracker-1/comments{/number}\",\"issue_comment_url\":\"https://api.github.com/repos/majisusmita222/TigerTracker-1/issues/comments{/number}\",\"contents_url\":\"https://api.github.com/repos/majisusmita222/TigerTracker-1/contents/{+path}\",\"compare_url\":\"https://api.github.com/repos/majisusmita222/TigerTracker-1/compare/{base}...{head}\",\"merges_url\":\"https://api.github.com/repos/majisusmita222/TigerTracker-1/merges\",\"archive_url\":\"https://api.github.com/repos/majisusmita222/TigerTracker-1/{archive_format}{/ref}\",\"downloads_url\":\"https://api.github.com/repos/majisusmita222/TigerTracker-1/downloads\",\"issues_url\":\"https://api.github.com/repos/majisusmita222/TigerTracker-1/issues{/number}\",\"pulls_url\":\"https://api.github.com/repos/majisusmita222/TigerTracker-1/pulls{/number}\",\"milestones_url\":\"https://api.github.com/repos/majisusmita222/TigerTracker-1/milestones{/number}\",\"notifications_url\":\"https://api.github.com/repos/majisusmita222/TigerTracker-1/notifications{?since,all,participating}\",\"labels_url\":\"https://api.github.com/repos/majisusmita222/TigerTracker-1/labels{/name}\",\"releases_url\":\"https://api.github.com/repos/majisusmita222/TigerTracker-1/releases{/id}\",\"deployments_url\":\"https://api.github.com/repos/majisusmita222/TigerTracker-1/deployments\",\"created_at\":\"2025-07-10T07:46:03Z\",\"updated_at\":\"2025-07-10T07:46:03Z\",\"pushed_at\":\"2025-06-13T18:37:28Z\",\"git_url\":\"git://github.com/majisusmita222/TigerTracker-1.git\",\"ssh_url\":\"git@github.com:majisusmita222/TigerTracker-1.git\",\"clone_url\":\"https://github.com/majisusmita222/TigerTracker-1.git\",\"svn_url\":\"https://github.com/majisusmita222/TigerTracker-1\",\"homepage\":null,\"size\":33488,\"stargazers_count\":0,\"watchers_count\":0,\"language\":null,\"has_issues\":false,\"has_projects\":true,\"has_downloads\":true,\"has_wiki\":true,\"has_pages\":false,\"has_discussions\":false,\"forks_count\":0,\"mirror_url\":null,\"archived\":false,\"disabled\":false,\"open_issues_count\":0,\"license\":null,\"allow_forking\":true,\"is_template\":false,\"web_commit_signoff_required\":false,\"topics\":[],\"visibility\":\"public\",\"forks\":0,\"open_issues\":0,\"watchers\":0,\"default_branch\":\"main\",\"public\":true}},\"public\":true,\"created_at\":\"2025-07-10T07:46:04Z\"},{\"id\":\"51913722530\",\"type\":\"PushEvent\",\"actor\":{\"id\":7067695,\"login\":\"quellabs\",\"display_login\":\"quellabs\",\"gravatar_id\":\"\",\"url\":\"https://api.github.com/users/quellabs\",\"avatar_url\":\"https://avatars.githubusercontent.com/u/7067695?\"},\"repo\":{\"id\":986130725,\"name\":\"quellabs/canvas\",\"url\":\"https://api.github.com/repos/quellabs/canvas\"},\"payload\":{\"repository_id\":986130725,\"push_id\":25407938539,\"size\":23,\"distinct_size\":23,\"ref\":\"refs/heads/main\",\"head\":\"94bc19d72a78a1deccc5d95976251e636a0cecd6\",\"before\":\"9bfc8b4e57673753b4c146f45fd4a8f98e759889\",\"commits\":[{\"sha\":\"a673e6b0658aac21529878c158fda452bdaf5d2a\",\"author\":{\"email\":\"E934BFdkKtWndW7\",\"name\":\"noescom\"},\"message\":\"Added '\n",
      " \"@phpstan-ignore-next-line to supress 'Inner named functions are not \"\n",
      " 'supported by PHPStan. Consider refactoring to an anonymous function, class '\n",
      " 'method, or a top-level-defined '\n",
      " 'function.\\'\",\"distinct\":true,\"url\":\"https://api.github.com/repos/quellabs/canvas/commits/a673e6b0658aac21529878c158fda452bdaf5d2a\"},{\"sha\":\"aca1ffc8e1963e199fe497d574e621f0d53ef88e\",\"author\":{\"email\":\"E934BFdkKtWndW7\",\"name\":\"noescom\"},\"message\":\"Fixed '\n",
      " 'Anonymous function has an unused use '\n",
      " '$cacheKey\",\"distinct\":true,\"url\":\"https://api.github.com/repos/quellabs/canvas/commits/aca1ffc8e1963e199fe497d574e621f0d53ef88e\"},{\"sha\":\"1345330ba1d9c46b06dbbbb3ab94a495f89e0544\",\"author\":{\"email\":\"E934BFdkKtWndW7\",\"name\":\"noescom\"},\"message\":\"Fixed '\n",
      " 'Call to an undefined method '\n",
      " 'ReflectionType::getName().\",\"distinct\":true,\"url\":\"https://api.github.com/repos/quellabs/canvas/commits/1345330ba1d9c46b06dbbbb3ab94a495f89e0544\"},{\"sha\":\"ed02c9b485cc43d167a27a97b76681b2fb95c423\",\"author\":{\"email\":\"E934BFdkKtWndW7\",\"name\":\"noescom\"},\"message\":\"Fixed '\n",
      " 'phpstan '\n",
      " 'bugs\",\"distinct\":true,\"url\":\"https://api.github.com/repos/quellabs/canvas/commits/ed02c9b485cc43d167a27a97b76681b2fb95c423\"},{\"sha\":\"545dad13f550b2fa1f6e7877c466cc75e22e1de8\",\"author\":{\"email\":\"E934BFdkKtWndW7\",\"name\":\"noescom\"},\"message\":\"Fixed '\n",
      " 'phpstan '\n",
      " 'bugs\",\"distinct\":true,\"url\":\"https://api.github.com/repos/quellabs/canvas/commits/545dad13f550b2fa1f6e7877c466cc75e22e1de8\"},{\"sha\":\"65264023925bfa572018d5dd250da254133bd4b1\",\"author\":{\"email\":\"E934BFdkKtWndW7\",\"name\":\"noescom\"},\"message\":\"Added '\n",
      " 'basic test setting. Template engine is now '\n",
      " 'optional.\",\"distinct\":true,\"url\":\"https://api.github.com/repos/quellabs/canvas/commits/65264023925bfa572018d5dd250da254133bd4b1\"},{\"sha\":\"a0889d03cc9e58f9ae9937b2a065b84cd3d0b381\",\"author\":{\"email\":\"E934BFdkKtWndW7\",\"name\":\"noescom\"},\"message\":\"Added '\n",
      " 'sculpt command '\n",
      " 'make:discovery-mapping\",\"distinct\":true,\"url\":\"https://api.github.com/repos/quellabs/canvas/commits/a0889d03cc9e58f9ae9937b2a065b84cd3d0b381\"},{\"sha\":\"a55e4dd0b12bce6f4afb198710d26961d85de9ab\",\"author\":{\"email\":\"E934BFdkKtWndW7\",\"name\":\"noescom\"},\"message\":\"Updated '\n",
      " 'version '\n",
      " 'numbers\",\"distinct\":true,\"url\":\"https://api.github.com/repos/quellabs/canvas/commits/a55e4dd0b12bce6f4afb198710d26961d85de9ab\"},{\"sha\":\"7c743019eda9791063b41e450d3076bb6601832c\",\"author\":{\"email\":\"E934BFdkKtWndW7\",\"name\":\"noescom\"},\"message\":\"AnnotationResolver '\n",
      " 'now resolves partial variables. E.g. '\n",
      " '/user/v{id}\",\"distinct\":true,\"url\":\"https://api.github.com/repos/quellabs/canvas/commits/7c743019eda9791063b41e450d3076bb6601832c\"},{\"sha\":\"4766f0f734da54f349b1d95ef3735277f7468a6f\",\"author\":{\"email\":\"E934BFdkKtWndW7\",\"name\":\"noescom\"},\"message\":\"Improved '\n",
      " 'code '\n",
      " 'somewhat\",\"distinct\":true,\"url\":\"https://api.github.com/repos/quellabs/canvas/commits/4766f0f734da54f349b1d95ef3735277f7468a6f\"},{\"sha\":\"35243f2af1ec9dfc8e9c66a89344c2e950ccd209\",\"author\":{\"email\":\"E934BFdkKtWndW7\",\"name\":\"noescom\"},\"message\":\"Improved '\n",
      " 'code '\n",
      " 'somewhat\",\"distinct\":true,\"url\":\"https://api.github.com/repos/quellabs/canvas/commits/35243f2af1ec9dfc8e9c66a89344c2e950ccd209\"},{\"sha\":\"0401b908a5b7a5c4bee0b923a299d963b22f4188\",\"author\":{\"email\":\"E934BFdkKtWndW7\",\"name\":\"noescom\"},\"message\":\"Split '\n",
      " 'AnnotationResolver in many '\n",
      " 'subclasses\",\"distinct\":true,\"url\":\"https://api.github.com/repos/quellabs/canvas/commits/0401b908a5b7a5c4bee0b923a299d963b22f4188\"},{\"sha\":\"e68ba8f3467f8c56cdd721f0554f51263daf34d7\",\"author\":{\"email\":\"E934BFdkKtWndW7\",\"name\":\"noescom\"},\"message\":\"Many '\n",
      " 'optimizations.\",\"distinct\":true,\"url\":\"https://api.github.com/repos/quellabs/canvas/commits/e68ba8f3467f8c56cdd721f0554f51263daf34d7\"},{\"sha\":\"bbe16cf37ee316011f5301d616222f16d1c10494\",\"author\":{\"email\":\"E934BFdkKtWndW7\",\"name\":\"noescom\"},\"message\":\"Many '\n",
      " 'optimizations.\",\"distinct\":true,\"url\":\"https://api.github.com/repos/quellabs/canvas/commits/bbe16cf37ee316011f5301d616222f16d1c10494\"},{\"sha\":\"a1ccf1272b1b15b73026fcfbc218dca4d7379ee8\",\"author\":{\"email\":\"E934BFdkKtWndW7\",\"name\":\"noescom\"},\"message\":\"Many '\n",
      " 'optimizations.\",\"distinct\":true,\"url\":\"https://api.github.com/repos/quellabs/canvas/commits/a1ccf1272b1b15b73026fcfbc218dca4d7379ee8\"},{\"sha\":\"e373937aac8649e2f9534df12aac2ee9e36b04db\",\"author\":{\"email\":\"E934BFdkKtWndW7\",\"name\":\"noescom\"},\"message\":\"Cleanup\",\"distinct\":true,\"url\":\"https://api.github.com/repos/quellabs/canvas/commits/e373937aac8649e2f9534df12aac2ee9e36b04db\"},{\"sha\":\"2b5cde05d2741a8b56953c61a9cb88c361ede7ab\",\"author\":{\"email\":\"E934BFdkKtWndW7\",\"name\":\"noescom\"},\"message\":\"Cleanup\",\"distinct\":true,\"url\":\"https://api.github.com/repos/quellabs/canvas/commits/2b5cde05d2741a8b56953c61a9cb88c361ede7ab\"},{\"sha\":\"9aa0b6858a968b616c2abd4147ffc58454ff63e7\",\"author\":{\"email\":\"E934BFdkKtWndW7\",\"name\":\"noescom\"},\"message\":\"Cleanup\",\"distinct\":true,\"url\":\"https://api.github.com/repos/quellabs/canvas/commits/9aa0b6858a968b616c2abd4147ffc58454ff63e7\"},{\"sha\":\"c2b51b7110edcfe878ffe67be28dd1417c94b0a7\",\"author\":{\"email\":\"E934BFdkKtWndW7\",\"name\":\"noescom\"},\"message\":\"Reordered '\n",
      " 'getSegmentType '\n",
      " 'checks\",\"distinct\":true,\"url\":\"https://api.github.com/repos/quellabs/canvas/commits/c2b51b7110edcfe878ffe67be28dd1417c94b0a7\"},{\"sha\":\"6960265b76d2e972ffdf00eda840a112dfe42992\",\"author\":{\"email\":\"E934BFdkKtWndW7\",\"name\":\"noescom\"},\"message\":\"removed '\n",
      " 'constraints that can never happen on a url (float, decimal, '\n",
      " 'number)\",\"distinct\":true,\"url\":\"https://api.github.com/repos/quellabs/canvas/commits/6960265b76d2e972ffdf00eda840a112dfe42992\"}]},\"public\":true,\"created_at\":\"2025-07-10T07:46:04Z\"},{\"id\":\"51913722525\",\"type\":\"PushEvent\",\"actor\":{\"id\":18218171,\"login\":\"mkofler96\",\"display_login\":\"mkofler96\",\"gravatar_id\":\"\",\"url\":\"https://api.github.com/users/mkofler96\",\"avatar_url\":\"https://avatars.githubusercontent.com/u/18218171?\"},\"repo\":{\"id\":991239901,\"name\":\"mkofler96/DeepSDFStruct\",\"url\":\"https://api.github.com/repos/mkofler96/DeepSDFStruct\"},\"payload\":{\"repository_id\":991239901,\"push_id\":25407938535,\"size\":1,\"distinct_size\":1,\"ref\":\"refs/heads/main\",\"head\":\"8e16ff8b8504d790ecdade1836689fa58f8868a2\",\"before\":\"f558411e5012fe461363103e60d51d160d6577f2\",\"commits\":[{\"sha\":\"8e16ff8b8504d790ecdade1836689fa58f8868a2\",\"author\":{\"email\":\"michael.kofler@tuwien.ac.at\",\"name\":\"Michael '\n",
      " 'Kofler\"},\"message\":\"added '\n",
      " 'coverage\",\"distinct\":true,\"url\":\"https://api.github.com/repos/mkofler96/DeepSDFStruct/commits/8e16ff8b8504d790ecdade1836689fa58f8868a2\"}]},\"public\":true,\"created_at\":\"2025-07-10T07:46:04Z\"},{\"id\":\"51913722515\",\"type\":\"PushEvent\",\"actor\":{\"id\":135448832,\"login\":\"Asadur-Rehman\",\"display_login\":\"Asadur-Rehman\",\"gravatar_id\":\"\",\"url\":\"https://api.github.com/users/Asadur-Rehman\",\"avatar_url\":\"https://avatars.githubusercontent.com/u/135448832?\"},\"repo\":{\"id\":1008178482,\"name\":\"Asadur-Rehman/Task-Tracker\",\"url\":\"https://api.github.com/repos/Asadur-Rehman/Task-Tracker\"},\"payload\":{\"repository_id\":1008178482,\"push_id\":25407938566,\"size\":1,\"distinct_size\":1,\"ref\":\"refs/heads/integration\",\"head\":\"760e4874122d0c967877eb27f1ef69e4a4ddeff1\",\"before\":\"5949822fa3e2a30f73f3c79146034685dd3bcc9b\",\"commits\":[{\"sha\":\"760e4874122d0c967877eb27f1ef69e4a4ddeff1\",\"author\":{\"email\":\"aurehman.bese21seecs@seecs.edu.pk\",\"name\":\"asad\"},\"message\":\"Changed '\n",
      " 'the methods from using colors to '\n",
      " 'statuses\",\"distinct\":true,\"url\":\"https://api.github.com/repos/Asadur-Rehman/Task-Tracker/commits/760e4874122d0c967877eb27f1ef69e4a4ddeff1\"}]},\"public\":true,\"created_at\":\"2025-07-10T07:46:03Z\"},{\"id\":\"51913722514\",\"type\":\"PushEvent\",\"actor\":{\"id\":77882576,\"login\":\"anubiswb\",\"display_login\":\"anubiswb\",\"gravatar_id\":\"\",\"url\":\"https://api.github.com/users/anubiswb\",\"avatar_url\":\"https://avatars.githubusercontent.com/u/77882576?\"},\"repo\":{\"id\":779962557,\"name\":\"anubiswb/api11\",\"url\":\"https://api.github.com/repos/anubiswb/api11\"},\"payload\":{\"repository_id\":779962557,\"push_id\":25407938518,\"size\":1,\"distinct_size\":1,\"ref\":\"refs/heads/main\",\"head\":\"d38833c0bdca6dc7f5b52d725b86a21ae6aaa1ff\",\"before\":\"8ff2695054a10aaf169bbde647681250c06a2ecc\",\"commits\":[{\"sha\":\"d38833c0bdca6dc7f5b52d725b86a21ae6aaa1ff\",\"author\":{\"email\":\"77882576+anubiswb@users.noreply.github.com\",\"name\":\"Anubis '\n",
      " 'Web\"},\"message\":\"dd\",\"distinct\":true,\"url\":\"https://api.github.com/repos/anubiswb/api11/commits/d38833c0bdca6dc7f5b52d725b86a21ae6aaa1ff\"}]},\"public\":true,\"created_at\":\"2025-07-10T07:46:03Z\"},{\"id\":\"51913722516\",\"type\":\"PushEvent\",\"actor\":{\"id\":3431609,\"login\":\"Abylaikhan\",\"display_login\":\"Abylaikhan\",\"gravatar_id\":\"\",\"url\":\"https://api.github.com/users/Abylaikhan\",\"avatar_url\":\"https://avatars.githubusercontent.com/u/3431609?\"},\"repo\":{\"id\":885769182,\"name\":\"jumystap/jumystap\",\"url\":\"https://api.github.com/repos/jumystap/jumystap\"},\"payload\":{\"repository_id\":885769182,\"push_id\":25407938565,\"size\":1,\"distinct_size\":1,\"ref\":\"refs/heads/master\",\"head\":\"fa3b854744d90aec11af7fcc81437a95fdd3e105\",\"before\":\"2138c8a73b65ffee3a3d608ec347719a96e4d7fc\",\"commits\":[{\"sha\":\"fa3b854744d90aec11af7fcc81437a95fdd3e105\",\"author\":{\"email\":\"a.sultanbek@a-i.kz\",\"name\":\"Abylaikhan\"},\"message\":\"fix: '\n",
      " 'banner bg '\n",
      " 'color\",\"distinct\":true,\"url\":\"https://api.github.com/repos/jumystap/jumystap/commits/fa3b854744d90aec11af7fcc81437a95fdd3e105\"}]},\"public\":true,\"created_at\":\"2025-07-10T07:46:03Z\",\"org\":{\"id\":183051616,\"login\":\"jumystap\",\"gravatar_id\":\"\",\"url\":\"https://api.github.com/orgs/jumystap\",\"avatar_url\":\"https://avatars.githubusercontent.com/u/183051616?\"}},{\"id\":\"51913722506\",\"type\":\"PushEvent\",\"actor\":{\"id\":48216,\"login\":\"cagnulein\",\"display_login\":\"cagnulein\",\"gravatar_id\":\"\",\"url\":\"https://api.github.com/users/cagnulein\",\"avatar_url\":\"https://avatars.githubusercontent.com/u/48216?\"},\"repo\":{\"id\":294157477,\"name\":\"cagnulein/qdomyos-zwift\",\"url\":\"https://api.github.com/repos/cagnulein/qdomyos-zwift\"},\"payload\":{\"repository_id\":294157477,\"push_id\":25407938520,\"size\":1,\"distinct_size\":1,\"ref\":\"refs/heads/nordictrack-build-grpc\",\"head\":\"27f8883830d712ce4526950984503fbf3b99a832\",\"before\":\"539b93016443cf462b8bd8f22bc83d42b63b2604\",\"commits\":[{\"sha\":\"27f8883830d712ce4526950984503fbf3b99a832\",\"author\":{\"email\":\"Cagnulein@gmail.com\",\"name\":\"Roberto '\n",
      " 'Viola\"},\"message\":\"gear '\n",
      " 'debouncing\",\"distinct\":true,\"url\":\"https://api.github.com/repos/cagnulein/qdomyos-zwift/commits/27f8883830d712ce4526950984503fbf3b99a832\"}]},\"public\":true,\"created_at\":\"2025-07-10T07:46:03Z\"},{\"id\":\"51913722501\",\"type\":\"PushEvent\",\"actor\":{\"id\":19910021,\"login\":\"zloykurd\",\"display_login\":\"zloykurd\",\"gravatar_id\":\"\",\"url\":\"https://api.github.com/users/zloykurd\",\"avatar_url\":\"https://avatars.githubusercontent.com/u/19910021?\"},\"repo\":{\"id\":1017147563,\"name\":\"zloykurd/flutter_libserialport\",\"url\":\"https://api.github.com/repos/zloykurd/flutter_libserialport\"},\"payload\":{\"repository_id\":1017147563,\"push_id\":25407938542,\"size\":1,\"distinct_size\":1,\"ref\":\"refs/heads/main\",\"head\":\"78ddc68d55607d1cdc36ff2e69519be2ba6ccb2d\",\"before\":\"dd867a190c8d2676ef8da8560ba04b61a1e928c0\",\"commits\":[{\"sha\":\"78ddc68d55607d1cdc36ff2e69519be2ba6ccb2d\",\"author\":{\"email\":\"100145184+radzhoyan@users.noreply.github.com\",\"name\":\"Rizvan '\n",
      " 'Adzhoyan\"},\"message\":\"update '\n",
      " 'gradle\",\"distinct\":true,\"url\":\"https://api.github.com/repos/zloykurd/flutter_libserialport/commits/78ddc68d55607d1cdc36ff2e69519be2ba6ccb2d\"}]},\"public\":true,\"created_at\":\"2025-07-10T07:46:03Z\"},{\"id\":\"51913722492\",\"type\":\"PushEvent\",\"actor\":{\"id\":173050017,\"login\":\"krishnathummar17\",\"display_login\":\"krishnathummar17\",\"gravatar_id\":\"\",\"url\":\"https://api.github.com/users/krishnathummar17\",\"avatar_url\":\"https://avatars.githubusercontent.com/u/173050017?\"},\"repo\":{\"id\":1013015334,\"name\":\"harryramoliya01/We3vision-pvt-ltd-1\",\"url\":\"https://api.github.com/repos/harryramoliya01/We3vision-pvt-ltd-1\"},\"payload\":{\"repository_id\":1013015334,\"push_id\":25407938498,\"size\":1,\"distinct_size\":1,\"ref\":\"refs/heads/main\",\"head\":\"819bc9c29600ec9033457fa66862f847e8cdc253\",\"before\":\"df22b15ebf44e34c92516d0bbbb5a7b4a8fb26eb\",\"commits\":[{\"sha\":\"819bc9c29600ec9033457fa66862f847e8cdc253\",\"author\":{\"email\":\"kthummar466@gmail.com\",\"name\":\"krishnathummar17\"},\"message\":\"Update '\n",
      " 'services.html\",\"distinct\":true,\"url\":\"https://api.github.com/repos/harryramoliya01/We3vision-pvt-ltd-1/commits/819bc9c29600ec9033457fa66862f847e8cdc253\"}]},\"public\":true,\"created_at\":\"2025-07-10T07:46:03Z\"},{\"id\":\"51913722493\",\"type\":\"PushEvent\",\"actor\":{\"id\":41898282,\"login\":\"github-actions[bot]\",\"display_login\":\"github-actions\",\"gravatar_id\":\"\",\"url\":\"https://api.github.com/users/github-actions[bot]\",\"avatar_url\":\"https://avatars.githubusercontent.com/u/41898282?\"},\"repo\":{\"id\":931362874,\"name\":\"Preethi0409/Preethi0409\",\"url\":\"https://api.github.com/repos/Preethi0409/Preethi0409\"},\"payload\":{\"repository_id\":931362874,\"push_id\":25407938564,\"size\":1,\"distinct_size\":1,\"ref\":\"refs/heads/output\",\"head\":\"5bb57022317103199da2525b86a01b62772dca88\",\"before\":\"421472982e6c39eeac2d052cdb1891dcdce545d5\",\"commits\":[{\"sha\":\"5bb57022317103199da2525b86a01b62772dca88\",\"author\":{\"email\":\"41898282+github-actions[bot]@users.noreply.github.com\",\"name\":\"github-actions[bot]\"},\"message\":\"Deploy '\n",
      " 'to GitHub '\n",
      " 'pages\",\"distinct\":true,\"url\":\"https://api.github.com/repos/Preethi0409/Preethi0409/commits/5bb57022317103199da2525b86a01b62772dca88\"}]},\"public\":true,\"created_at\":\"2025-07-10T07:46:03Z\"},{\"id\":\"51913722466\",\"type\":\"PushEvent\",\"actor\":{\"id\":15001792,\"login\":\"daniel7grant\",\"display_login\":\"daniel7grant\",\"gravatar_id\":\"\",\"url\":\"https://api.github.com/users/daniel7grant\",\"avatar_url\":\"https://avatars.githubusercontent.com/u/15001792?\"},\"repo\":{\"id\":769682641,\"name\":\"daniel7grant/time\",\"url\":\"https://api.github.com/repos/daniel7grant/time\"},\"payload\":{\"repository_id\":769682641,\"push_id\":25407938508,\"size\":1,\"distinct_size\":1,\"ref\":\"refs/heads/main\",\"head\":\"5870571bf1acf00c5d327342b02c5c4561a8797b\",\"before\":\"74a6ba3b0a029bbc76a24d5138b66295827f3dd3\",\"commits\":[{\"sha\":\"5870571bf1acf00c5d327342b02c5c4561a8797b\",\"author\":{\"email\":\"gergely.daniel7@gmail.com\",\"name\":\"Grant\"},\"message\":\"Update '\n",
      " 'to '\n",
      " '2025-07-10T07:46:01+0000\",\"distinct\":true,\"url\":\"https://api.github.com/repos/daniel7grant/time/commits/5870571bf1acf00c5d327342b02c5c4561a8797b\"}]},\"public\":true,\"created_at\":\"2025-07-10T07:46:03Z\"}]')\n"
     ]
    }
   ],
   "source": [
    "\n",
    "import requests\n",
    "from pprint import pprint\n",
    "\n",
    "r = requests.get('https://api.github.com/events')\n",
    "if r.status_code ==200:\n",
    "    print(\"success\")\n",
    "    pprint(r.text)\n",
    "\n",
    "else:\n",
    "    print(\"fail\")\n",
    "\n",
    "\n",
    "\n"
   ]
  },
  {
   "cell_type": "code",
   "execution_count": 6,
   "id": "2a26cd7d",
   "metadata": {},
   "outputs": [
    {
     "name": "stdout",
     "output_type": "stream",
     "text": [
      "500500\n"
     ]
    }
   ],
   "source": [
    "total = 0\n",
    "for i in range(1,1001):\n",
    "    total += i\n",
    "print(total)"
   ]
  },
  {
   "cell_type": "code",
   "execution_count": 1,
   "id": "d584e270",
   "metadata": {},
   "outputs": [
    {
     "name": "stdout",
     "output_type": "stream",
     "text": [
      "玩第 1 次\n",
      "玩第 2 次\n",
      "玩第 3 次\n"
     ]
    }
   ],
   "source": [
    "i = 0\n",
    "while(True):\n",
    "    is_play = input(\"? y,n\")\n",
    "    if is_play == \"n\" :\n",
    "        break\n",
    "    i += 1\n",
    "    print(f\"玩第 {i} 次\")"
   ]
  },
  {
   "cell_type": "code",
   "execution_count": 8,
   "id": "c5258cdc",
   "metadata": {},
   "outputs": [
    {
     "name": "stdout",
     "output_type": "stream",
     "text": [
      "banana\n",
      "apple\n",
      "orange\n",
      "['banana', 'apple', 'orange', 'pear']\n",
      "['banana', 'apple', 'orange', 'pear']\n",
      "['banana', 'apple', 'orange', 'pear']\n",
      "['banana', 'apple', 'orange', 'pear']\n"
     ]
    }
   ],
   "source": [
    "fruits = [\"banana\", \"apple\", \"orange\"]\n",
    "for item in fruits:\n",
    " print(item)\n",
    "fruits.append(\"pear\")\n",
    "fruits1 = fruits\n",
    "for item in fruits1:\n",
    " print(fruits1)"
   ]
  },
  {
   "cell_type": "code",
   "execution_count": 9,
   "id": "f1d1e3aa",
   "metadata": {},
   "outputs": [
    {
     "name": "stdout",
     "output_type": "stream",
     "text": [
      "67\n"
     ]
    }
   ],
   "source": [
    "def add_value(v1,v2):\n",
    "    return v1+v2\n",
    "\n",
    "a = 12\n",
    "b = 55\n",
    "c = add_value(a,b)\n",
    "print(c)"
   ]
  },
  {
   "cell_type": "code",
   "execution_count": null,
   "id": "efcc1f19",
   "metadata": {},
   "outputs": [
    {
     "ename": "TypeError",
     "evalue": "unsupported operand type(s) for /: 'list' and 'list'",
     "output_type": "error",
     "traceback": [
      "\u001b[31m---------------------------------------------------------------------------\u001b[39m",
      "\u001b[31mTypeError\u001b[39m                                 Traceback (most recent call last)",
      "\u001b[36mCell\u001b[39m\u001b[36m \u001b[39m\u001b[32mIn[14]\u001b[39m\u001b[32m, line 4\u001b[39m\n\u001b[32m      2\u001b[39m r_list1= [random.randint(\u001b[32m1\u001b[39m,\u001b[32m100\u001b[39m) \u001b[38;5;28;01mfor\u001b[39;00m _ \u001b[38;5;129;01min\u001b[39;00m \u001b[38;5;28mrange\u001b[39m(\u001b[32m10\u001b[39m)]\n\u001b[32m      3\u001b[39m r_list2= [random.randint(\u001b[32m100\u001b[39m,\u001b[32m1000\u001b[39m) \u001b[38;5;28;01mfor\u001b[39;00m _ \u001b[38;5;129;01min\u001b[39;00m \u001b[38;5;28mrange\u001b[39m(\u001b[32m10\u001b[39m)]\n\u001b[32m----> \u001b[39m\u001b[32m4\u001b[39m \u001b[38;5;28mprint\u001b[39m(\u001b[43mr_list1\u001b[49m\u001b[43m/\u001b[49m\u001b[43mr_list2\u001b[49m)\n",
      "\u001b[31mTypeError\u001b[39m: unsupported operand type(s) for /: 'list' and 'list'"
     ]
    }
   ],
   "source": [
    "import random\n",
    "r_list1= [random.randint(1,100) for _ in range(10)]\n",
    "r_list2= [random.randint(100,1000) for _ in range(10)]\n",
    "for item\n",
    "  print(r_list1/r_list2)"
   ]
  }
 ],
 "metadata": {
  "kernelspec": {
   "display_name": "myenv1",
   "language": "python",
   "name": "python3"
  },
  "language_info": {
   "codemirror_mode": {
    "name": "ipython",
    "version": 3
   },
   "file_extension": ".py",
   "mimetype": "text/x-python",
   "name": "python",
   "nbconvert_exporter": "python",
   "pygments_lexer": "ipython3",
   "version": "3.12.11"
  }
 },
 "nbformat": 4,
 "nbformat_minor": 5
}
